{
 "cells": [
  {
   "cell_type": "markdown",
   "metadata": {},
   "source": [
    "___\n",
    "\n",
    "<a href='https://www.instagram.com/lanlearning/'> <img src='../pyimages/logosmall.png' width=\"100\" height=\"100\"/></a>\n",
    "___\n",
    "<center>Copyright LanLearning 2020</center>\n",
    "\n",
    "\n"
   ]
  },
  {
   "cell_type": "markdown",
   "metadata": {},
   "source": [
    "# Welcome back!\n",
    "\n",
    "This workbook is designed for you to learn the basics of Python. There will be a few workbooks like this one designed to help you learn Python in the following parts. \n",
    "\n",
    "Please follow the notebooks in the steps below because they are designed to follow from one another:\n",
    "\n",
    "- Part 1: Basic Data Types\n",
    "- Part 2: Advance Data Types\n",
    "- Part 3: Functions\n",
    "- Part 4: Python Processes"
   ]
  },
  {
   "cell_type": "markdown",
   "metadata": {},
   "source": [
    "## Using Python:\n",
    "\n",
    "Python is becoming the choice of more and more tech and computer-related companies, and this should come as no surprise. Python is so simple to read and the code is easy to learn. Python is also very powerful because you can do so many things with it. In this notebook, we will cover what gives Python its power.\n",
    "\n",
    "<br>\n",
    "<img src='../pyimages/auto.jpg' width=\"400\"/>\n",
    "<center> Source: Lynda.com </center>\n",
    "<br>\n",
    "\n",
    "### Automation:\n",
    "One of the goals of computer science is to develop and write code to make computers do things on their own. Essentially, our goal is to remove as much human work as possible and abstract it to the computer. \n",
    "\n",
    "In order to begin automating with Python, let's first begin with the simple blocks and tools that are the topic of this notebook: \n",
    "- **conditional statements**: checks whether the specified condition is ```True``` or ```False``` and then runs a certain action (or actions) based on the condition \n",
    "- **iteration**: allows you to repeat the same procedure many times without having to rewrite the same code over and over again\n",
    "- **loops**: allows you to be able to iterate; these loops will keep doing a certain action while a certain condition is met or for a certain number of times that you specify the loop to run for\n",
    "\n",
    "#### Extra: \n",
    "**Object Oriented programming (OOP)** is not covered in this program. However, it is also a very important part of Computer Science. While OOP isn't that important for Data Science, it is very valuable in Software Engineering. There are many sites online where you can learn OOP!"
   ]
  },
  {
   "cell_type": "markdown",
   "metadata": {},
   "source": [
    "## Conditionals:\n",
    "\n",
    "**Definition**: Conditional statements are those that will perform a certain procedure or action based on the result of a **boolean** statement, which evaluates whether a condition is ```True``` or ```False```. \n",
    "\n",
    "Before we go into conditional statements, let's first learn how to check whether a condition is ```True``` or ```False``` using an **operator**. \n",
    "\n",
    "\n",
    "<br>\n",
    "<img src='../pyimages/rain.jpg' width=\"500\"/>\n",
    "<center> Painting by Elena Oleniuc </center>\n",
    "<br>\n",
    "\n",
    "\n",
    "### Operators: \n",
    "**Definition**: an operator does an operation on variables or values\n",
    "\n",
    "#### Simple Operator:\n",
    "To check if two values or variables are the same, you can use ```==```:\n",
    "\n",
    "\n",
    "Side note: ```==``` differs from ```=``` as double equals is a comparison operator, while single equals is an assignment operator. Double equals is used to determine if two objects render identical values, while single equals is used to assign a value to a variable.  "
   ]
  },
  {
   "cell_type": "code",
   "execution_count": null,
   "metadata": {},
   "outputs": [],
   "source": [
    "1 == 1"
   ]
  },
  {
   "cell_type": "code",
   "execution_count": null,
   "metadata": {},
   "outputs": [],
   "source": [
    "17 == 18"
   ]
  },
  {
   "cell_type": "code",
   "execution_count": null,
   "metadata": {},
   "outputs": [],
   "source": [
    "17 == 18 - 1"
   ]
  },
  {
   "cell_type": "markdown",
   "metadata": {},
   "source": [
    "This also works with variables:"
   ]
  },
  {
   "cell_type": "code",
   "execution_count": null,
   "metadata": {},
   "outputs": [],
   "source": [
    "a = 2\n",
    "b = 3 - 1\n",
    "\n",
    "a == b"
   ]
  },
  {
   "cell_type": "markdown",
   "metadata": {},
   "source": [
    "Other simple operators include the following: \n",
    "\n",
    "```!=``` - checks whether two things are **not equal**\n",
    "\n",
    "```>``` - checks for **greater than**\n",
    "\n",
    "```<``` - checks for **less than**\n",
    "\n",
    "```>=``` - checks for **greater than or equal to**\n",
    "\n",
    "```<=``` - checks for **less than  or equal to**"
   ]
  },
  {
   "cell_type": "code",
   "execution_count": null,
   "metadata": {},
   "outputs": [],
   "source": [
    "17!=18"
   ]
  },
  {
   "cell_type": "code",
   "execution_count": null,
   "metadata": {},
   "outputs": [],
   "source": [
    "17>18"
   ]
  },
  {
   "cell_type": "code",
   "execution_count": null,
   "metadata": {},
   "outputs": [],
   "source": [
    "# try using some other simple operators below\n"
   ]
  },
  {
   "cell_type": "markdown",
   "metadata": {},
   "source": [
    "#### Logical Operators: \n",
    "Logical operators are used to combine two simple operator statements in order to figure out a final truth value: \n",
    "\n",
    "```and``` - returns ```True``` if **both** operators evaluate to ```True```, and returns ```False``` otherwise \n",
    "\n",
    "The following shows the possible combinations and outcomes of ```and```:\n",
    "\n",
    "-```True``` and ```True``` --> ```True```   \n",
    "-```True``` and ```False``` --> ```False```  \n",
    "-```False``` and ```True``` --> ```False```  \n",
    "-```False``` and ```False``` --> ```False```\n",
    "\n",
    "<br>\n",
    "<img src='../pyimages/or.jpeg' width=\"600\"/>\n",
    "<center> Source: RealPython.com </center>\n",
    "<br>\n",
    "\n"
   ]
  },
  {
   "cell_type": "code",
   "execution_count": null,
   "metadata": {},
   "outputs": [],
   "source": [
    "2 == 2 and 1 == 1"
   ]
  },
  {
   "cell_type": "code",
   "execution_count": null,
   "metadata": {},
   "outputs": [],
   "source": [
    "2 == 2 and 1 == 2"
   ]
  },
  {
   "cell_type": "markdown",
   "metadata": {},
   "source": [
    "Other Logical Operators include the following: \n",
    "\n",
    "```or``` - checks whether **any one** of the statements is ```True```\n",
    "\n",
    "The following shows the possible combinations and outcomes of ```or```:\n",
    "\n",
    "-```True``` or ```True``` --> ```True```  \n",
    "-```True``` or ```False``` --> ```True```  \n",
    "-```False``` or ```True``` --> ```True```   \n",
    "-```False``` or ```False``` --> ```False```\n",
    "\n",
    "```not``` - checks whether the statement is ```False```, and if it is ```False```, it will return ```True```\n",
    "\n",
    "The following shows the possible combinations and outcomes of ```not```:\n",
    "\n",
    "-not ```True``` --> ```False``` \n",
    "\n",
    "-not ```False``` --> ```True```"
   ]
  },
  {
   "cell_type": "code",
   "execution_count": null,
   "metadata": {},
   "outputs": [],
   "source": [
    "2==2 or 1==2"
   ]
  },
  {
   "cell_type": "code",
   "execution_count": null,
   "metadata": {},
   "outputs": [],
   "source": [
    "# checks if 2 does not equal 4\n",
    "not 2 == 4"
   ]
  },
  {
   "cell_type": "code",
   "execution_count": null,
   "metadata": {},
   "outputs": [],
   "source": [
    "# or you could have checked:\n",
    "2 != 4"
   ]
  },
  {
   "cell_type": "markdown",
   "metadata": {},
   "source": [
    "#### Membership Operators: \n",
    "\n",
    "These are used to check whether or not a certain element is **in** or **not in** another element. \n",
    "\n",
    "```in``` - checks whether an element is in another element\n",
    "\n",
    "```not in``` - checks whether an element is not in another element\n",
    "\n",
    "This can be done with strings or lists: "
   ]
  },
  {
   "cell_type": "code",
   "execution_count": null,
   "metadata": {},
   "outputs": [],
   "source": [
    "'lan' in 'Milan'"
   ]
  },
  {
   "cell_type": "code",
   "execution_count": null,
   "metadata": {},
   "outputs": [],
   "source": [
    "'lan' in 'Milan' and 'lan' in 'lanlearning'"
   ]
  },
  {
   "cell_type": "code",
   "execution_count": null,
   "metadata": {},
   "outputs": [],
   "source": [
    "'lan' in 'MILAN'"
   ]
  },
  {
   "cell_type": "markdown",
   "metadata": {},
   "source": [
    "#### Why does ```'lan' in 'MILAN'``` return ```False```?\n",
    "\n",
    "**Hint**: think about case sensitivity!\n",
    "\n",
    "We can also apply membership operators in lists, such as arrays: "
   ]
  },
  {
   "cell_type": "code",
   "execution_count": null,
   "metadata": {},
   "outputs": [],
   "source": [
    "2 in [1, 2, 3]"
   ]
  },
  {
   "cell_type": "code",
   "execution_count": null,
   "metadata": {},
   "outputs": [],
   "source": [
    "679 not in [1, 2, 3]"
   ]
  },
  {
   "cell_type": "code",
   "execution_count": null,
   "metadata": {},
   "outputs": [],
   "source": [
    "4 in [1,2,3]"
   ]
  },
  {
   "cell_type": "markdown",
   "metadata": {},
   "source": [
    "#### Cool thing with Strings: \n",
    "\n",
    "Strings are one of the coolest things in Python-- here are some examples of using operators with strings! Try to figure out why the operator returns what it does:"
   ]
  },
  {
   "cell_type": "code",
   "execution_count": null,
   "metadata": {},
   "outputs": [],
   "source": [
    "'Milan' == 'Milan'"
   ]
  },
  {
   "cell_type": "code",
   "execution_count": null,
   "metadata": {},
   "outputs": [],
   "source": [
    "'M' < 'm'"
   ]
  },
  {
   "cell_type": "code",
   "execution_count": null,
   "metadata": {},
   "outputs": [],
   "source": []
  },
  {
   "cell_type": "code",
   "execution_count": null,
   "metadata": {},
   "outputs": [],
   "source": []
  },
  {
   "cell_type": "code",
   "execution_count": null,
   "metadata": {},
   "outputs": [],
   "source": []
  },
  {
   "cell_type": "code",
   "execution_count": null,
   "metadata": {},
   "outputs": [],
   "source": [
    "'A' < 'B'"
   ]
  },
  {
   "cell_type": "code",
   "execution_count": null,
   "metadata": {},
   "outputs": [],
   "source": [
    "'Milan' > 'LanLearning'"
   ]
  },
  {
   "cell_type": "code",
   "execution_count": null,
   "metadata": {},
   "outputs": [],
   "source": [
    "'a' > 'z'"
   ]
  },
  {
   "cell_type": "code",
   "execution_count": null,
   "metadata": {},
   "outputs": [],
   "source": [
    "'Data Science' < 'Computer Science'"
   ]
  },
  {
   "cell_type": "markdown",
   "metadata": {},
   "source": [
    "Data Science is cooler than Computer Science^. "
   ]
  },
  {
   "cell_type": "markdown",
   "metadata": {},
   "source": [
    "## Back to Conditional Statements:\n",
    "Now that we know about Operators, we can do Conditional Statements: \n",
    "\n",
    "#### Here's a quick example: \n",
    "Think about a current example that has a certain condition and will have to take a certain action. \n",
    "\n",
    "*For example*: If Coronavirus were still a big problem, I would wear a mask when going outside.\n",
    "\n",
    "Let's write my example into a conditional. But first let's set up the operator. "
   ]
  },
  {
   "cell_type": "code",
   "execution_count": null,
   "metadata": {},
   "outputs": [],
   "source": [
    "# I'll define a variable called outside that will reflect\n",
    "# what it's like outside\n",
    "\n",
    "# For example, if it's sunny outside, I would set outside to \n",
    "# be equal to 'sunny'\n",
    "\n",
    "# For my example, let's say there's still coronavirus outside\n",
    "outside = 'Coronavirus'"
   ]
  },
  {
   "cell_type": "markdown",
   "metadata": {},
   "source": [
    "Now let me write my operator: \n",
    "This returns true because we used an assignement operator above to set the variable outside equal to 'coronavirus'"
   ]
  },
  {
   "cell_type": "code",
   "execution_count": null,
   "metadata": {},
   "outputs": [],
   "source": [
    "'Coronavirus' == outside"
   ]
  },
  {
   "cell_type": "markdown",
   "metadata": {},
   "source": [
    "Now I have a way of checking whether there is coronavirus outside. \n",
    "\n",
    "Let's use it to write the **conditional statement**:"
   ]
  },
  {
   "cell_type": "code",
   "execution_count": null,
   "metadata": {},
   "outputs": [],
   "source": [
    "if 'Coronavirus' == outside:\n",
    "    print('Wear Mask!!!')"
   ]
  },
  {
   "cell_type": "markdown",
   "metadata": {},
   "source": [
    "With the conditional statement from above, I made the computer tell me to wear a mask if Coronavirus is outside. \n",
    "\n",
    "Now let's change the outside to ```'Sunny'``` and see what happens:"
   ]
  },
  {
   "cell_type": "code",
   "execution_count": null,
   "metadata": {},
   "outputs": [],
   "source": [
    "outside = 'Sunny'\n",
    "\n",
    "if 'Coronavirus' == outside:\n",
    "    print('Wear Mask!!!')"
   ]
  },
  {
   "cell_type": "markdown",
   "metadata": {},
   "source": [
    "Notice nothing got returned because the condition was ```False```"
   ]
  },
  {
   "cell_type": "code",
   "execution_count": null,
   "metadata": {},
   "outputs": [],
   "source": [
    "'Coronavirus' == outside"
   ]
  },
  {
   "cell_type": "markdown",
   "metadata": {},
   "source": [
    "Let's go over the **syntax** of a conditional statement: \n",
    "\n",
    "1. To start a condition, you want to write ```if```. \n",
    "2. Leave a space after ```if``` and write your conditional statement that you will check if it is ```True``` or not. \n",
    "3. Add a ```:``` (colon) after the end of the statement.\n",
    "4. Add the **action** you want to do on the line below."
   ]
  },
  {
   "cell_type": "code",
   "execution_count": null,
   "metadata": {},
   "outputs": [],
   "source": [
    "if 2 < 4:\n",
    "    print('2 is less than 4.')"
   ]
  },
  {
   "cell_type": "markdown",
   "metadata": {},
   "source": [
    "Often, conditional statements will be embedded within a function: "
   ]
  },
  {
   "cell_type": "code",
   "execution_count": null,
   "metadata": {},
   "outputs": [],
   "source": [
    "def less_than_4(number):\n",
    "    if number < 4:\n",
    "        return str(number) + ' is less than 4.'"
   ]
  },
  {
   "cell_type": "code",
   "execution_count": null,
   "metadata": {},
   "outputs": [],
   "source": [
    "less_than_4(2)"
   ]
  },
  {
   "cell_type": "code",
   "execution_count": null,
   "metadata": {},
   "outputs": [],
   "source": [
    "less_than_4(5)"
   ]
  },
  {
   "cell_type": "markdown",
   "metadata": {},
   "source": [
    "Notice when we passed in ```5``` into the function ```less_than_4```, nothing happened. Let's fix that. \n",
    "\n",
    "If a ```number``` is not less than ```4```, let's make the function return ```'number is gretaer than 4!'```\n",
    "\n",
    "For that, you want to use an ```elif``` (else if) statement, which is very similar to the ```if``` statement. An **else if** statement provides an alternative if the first ```if``` statement is not satisfied. A general rule of thumb: the function will run from top to bottom, so if a condition is satisfied it will return straight away. It will only continue to run through the other conditions if none of them have been met yet. "
   ]
  },
  {
   "cell_type": "code",
   "execution_count": null,
   "metadata": {},
   "outputs": [],
   "source": [
    "def less_than_4(number):\n",
    "    if number < 4:\n",
    "        return str(number) + ' is less than 4.'\n",
    "    elif number > 4:\n",
    "        return str(number) + ' is greater than 4!'"
   ]
  },
  {
   "cell_type": "code",
   "execution_count": null,
   "metadata": {},
   "outputs": [],
   "source": [
    "less_than_4(5) \n"
   ]
  },
  {
   "cell_type": "markdown",
   "metadata": {},
   "source": [
    "Notice if we were to have called (3) instead of (5) above, it would have satisfied the first condition and returned **\"3 is less than 4\"** and therefore the second condition wouldn't have run."
   ]
  },
  {
   "cell_type": "markdown",
   "metadata": {},
   "source": [
    "#### But what if you pass in 4?\n",
    "4 is neither less than or greater than 4. It is **equal** to 4. So how can we include that in our function with conditionals? \n",
    "\n",
    "To include the last condition, you want to use an **else** statement. This one requires no condition because the computer will be able to recognize the condition. \n",
    "\n",
    "*For example*: If the number isn't smaller than 4 or greater than 4, it has to be 4. It can't be anything **else**."
   ]
  },
  {
   "cell_type": "code",
   "execution_count": null,
   "metadata": {},
   "outputs": [],
   "source": [
    "def less_than_4(number):\n",
    "    if number < 4:\n",
    "        return str(number) + ' is less than 4.'\n",
    "    elif number > 4:\n",
    "        return str(number) + ' is greater than 4!'\n",
    "    else:\n",
    "        return '4 is equal to 4'"
   ]
  },
  {
   "cell_type": "code",
   "execution_count": null,
   "metadata": {},
   "outputs": [],
   "source": [
    "less_than_4(4)"
   ]
  },
  {
   "cell_type": "markdown",
   "metadata": {},
   "source": [
    "**Now you should have the fundamentals on how to make a conditional statement using if, elif, and else.**\n",
    "\n",
    "Here's the general notation for if-else statements:"
   ]
  },
  {
   "cell_type": "code",
   "execution_count": null,
   "metadata": {},
   "outputs": [],
   "source": [
    "if condition_1:\n",
    "    action_1\n",
    "elif condition_2:\n",
    "    action_2\n",
    "elif condition_3:\n",
    "    action_2\n",
    "#... add more elif statements here\n",
    "#... add more elif statements here\n",
    "else:\n",
    "    last_action"
   ]
  },
  {
   "cell_type": "code",
   "execution_count": null,
   "metadata": {},
   "outputs": [],
   "source": []
  },
  {
   "cell_type": "code",
   "execution_count": null,
   "metadata": {},
   "outputs": [],
   "source": []
  },
  {
   "cell_type": "code",
   "execution_count": null,
   "metadata": {},
   "outputs": [],
   "source": []
  },
  {
   "cell_type": "markdown",
   "metadata": {},
   "source": [
    "## For Loops:\n",
    "\n",
    "<br>\n",
    "<img src='../pyimages/loop.png' width=\"500\"/>\n",
    "<br>\n",
    "\n",
    "\n",
    "\n",
    "For loops will be the simplest of the iterable loops:\n",
    "\n",
    "For loops will allow you do a certain action **for** a certain number of times. \n",
    "\n",
    "Usually you go down a **list** when you are working with a for loop. This means that a for loop will run **for every single item in the list**.\n",
    "\n",
    "First let's create a simple list to work with. I'll call it ```friends_list```:"
   ]
  },
  {
   "cell_type": "code",
   "execution_count": null,
   "metadata": {},
   "outputs": [],
   "source": [
    "friends_list = ['Madeleine', 'Amy', 'Bernice', 'Liam']"
   ]
  },
  {
   "cell_type": "markdown",
   "metadata": {},
   "source": [
    "Now let's write code so that we can print each of the items in the list ```friends_list```:"
   ]
  },
  {
   "cell_type": "code",
   "execution_count": null,
   "metadata": {
    "scrolled": true
   },
   "outputs": [],
   "source": [
    "for person in friends_list: #for every number in simple \n",
    "    print('Hello ' + person) #print the number"
   ]
  },
  {
   "cell_type": "code",
   "execution_count": null,
   "metadata": {},
   "outputs": [],
   "source": [
    "friends_list"
   ]
  },
  {
   "cell_type": "markdown",
   "metadata": {},
   "source": [
    "Now, let's create a list of odd numbers called ```simple```."
   ]
  },
  {
   "cell_type": "code",
   "execution_count": null,
   "metadata": {},
   "outputs": [],
   "source": [
    "simple = [1, 3, 5, 7, 9]"
   ]
  },
  {
   "cell_type": "code",
   "execution_count": null,
   "metadata": {},
   "outputs": [],
   "source": [
    "a = 2\n",
    "\n",
    "for b in simple:\n",
    "    print(a)"
   ]
  },
  {
   "cell_type": "markdown",
   "metadata": {},
   "source": [
    "Essentially, we just wrote a For loop in the code cell above. \n",
    "\n",
    "#### Here's how to read it:\n",
    "**for** every **number in simple, print** the **number**. \n",
    "\n",
    "Notice how we didn't need to write ```print(1)```, ```print(2)```, ..., ```print(5)```, but just writing ```print(number)``` did all of that for us. This is the power of a For loop!\n",
    "\n",
    "#### Here are the steps to write a for loop:\n",
    "1. Start with ```for```.\n",
    "2. Leave a space after ```for``` and write a generic name for each element in your loop. \n",
    "3. After the generic name, write ```in```, and after that leave a space and write in your list. \n",
    "4. Add a ```:``` after the list name, and press enter. \n",
    "5. Notice how the new line is indented. This is to show that the new line is part of the For loop. Write your action line, and you're done! "
   ]
  },
  {
   "cell_type": "code",
   "execution_count": null,
   "metadata": {},
   "outputs": [],
   "source": [
    "# more complex For loop: \n",
    "for _ in simple: \n",
    "    print(_)\n",
    "    print(_ + 5)"
   ]
  },
  {
   "cell_type": "markdown",
   "metadata": {},
   "source": [
    "Notice that I used ```_``` in the for loop above instead of ```number```.\n",
    "\n",
    "It doesn't matter what you call the element of the list, as long as you are consistent throughout the loop. "
   ]
  },
  {
   "cell_type": "markdown",
   "metadata": {},
   "source": [
    "### Write a for loop to print all the even numbers in ```simple```"
   ]
  },
  {
   "cell_type": "code",
   "execution_count": null,
   "metadata": {},
   "outputs": [],
   "source": [
    "# incorporating a conditional within a For loop\n",
    "for number in simple:\n",
    "    if number % 2  == 0:\n",
    "        print(number)"
   ]
  },
  {
   "cell_type": "code",
   "execution_count": null,
   "metadata": {},
   "outputs": [],
   "source": [
    "# one more example: \n",
    "topics = ['Conditionals', 'Operators', 'If-Else', 'For Loops']\n",
    "\n",
    "for topic_name in topics:\n",
    "    print('I fully understand ' + topic_name + '!')"
   ]
  },
  {
   "cell_type": "markdown",
   "metadata": {},
   "source": [
    "Great! Now that you fully understand For loops, let's move on to While Loops!"
   ]
  },
  {
   "cell_type": "code",
   "execution_count": null,
   "metadata": {},
   "outputs": [],
   "source": []
  },
  {
   "cell_type": "code",
   "execution_count": null,
   "metadata": {},
   "outputs": [],
   "source": []
  },
  {
   "cell_type": "code",
   "execution_count": null,
   "metadata": {},
   "outputs": [],
   "source": []
  },
  {
   "cell_type": "markdown",
   "metadata": {},
   "source": [
    "## While Loops:\n",
    "\n",
    "<br>\n",
    "<img src='../pyimages/quaran.jpg' width=\"500\"/>\n",
    "<center> Source: The Economic Times </center>\n",
    "<br>\n",
    "\n",
    "\n",
    "\n",
    "A While loop is similar to a For loop except it also makes use of a condition. A While loop will continue to carry out what it is programmed to do as long as a certain condition is true. \n",
    "\n",
    "Let's go right into an example:"
   ]
  },
  {
   "cell_type": "code",
   "execution_count": null,
   "metadata": {},
   "outputs": [],
   "source": [
    "counter = 0\n",
    "\n",
    "while counter != 10:\n",
    "    print(counter)\n",
    "    counter = counter + 1   #iteration happening here"
   ]
  },
  {
   "cell_type": "markdown",
   "metadata": {},
   "source": [
    "In this While loop, **while** counter is not equal to 10, the things inside the loop will run. \n",
    "\n",
    "First the the variable ```counter``` was set to ```0```. Then inside the While loop, ```counter``` is increased by 1 each time the loop runs. \n",
    "\n",
    "At the end of the loop, the counter should be 10, let's check: "
   ]
  },
  {
   "cell_type": "code",
   "execution_count": null,
   "metadata": {},
   "outputs": [],
   "source": [
    "counter"
   ]
  },
  {
   "cell_type": "markdown",
   "metadata": {},
   "source": [
    "Writing a While loop is simple, but you need to be careful about making sure your code won't run forever: \n",
    "\n",
    "For example, if we remove the line ```counter = counter + 1```, the loop will run forever: "
   ]
  },
  {
   "cell_type": "code",
   "execution_count": null,
   "metadata": {},
   "outputs": [],
   "source": [
    "# I recommend that you don't run this line...\n",
    "\n",
    "counter = 0\n",
    "\n",
    "while counter != 10:\n",
    "    print(counter)\n",
    "    # you need counter += 1 for it to stop running "
   ]
  },
  {
   "cell_type": "markdown",
   "metadata": {},
   "source": [
    "Yep, that line is still running....\n",
    "\n",
    "To make it stop running, click the code cell and press the stop button next to ```Run``` on the tab bar. "
   ]
  },
  {
   "cell_type": "markdown",
   "metadata": {},
   "source": [
    "In order to prevent a while loop that continues forever, it is important to include **iteration**, which is essentially the process of increasing the value of a```counter``` variable. It is necesary because you want to make sure the while loop will end eventually. In the example above, we incremented the counter variable by 1 each time, but in the example where the loop runs forever, we never altered the counter variable. This is why that loop ran infinitely. "
   ]
  },
  {
   "cell_type": "code",
   "execution_count": null,
   "metadata": {},
   "outputs": [],
   "source": [
    "a"
   ]
  },
  {
   "cell_type": "code",
   "execution_count": null,
   "metadata": {},
   "outputs": [],
   "source": [
    "while a == 0:\n",
    "    print('You have gasoline!')"
   ]
  },
  {
   "cell_type": "code",
   "execution_count": null,
   "metadata": {},
   "outputs": [],
   "source": []
  },
  {
   "cell_type": "markdown",
   "metadata": {},
   "source": [
    "# Recap \n",
    "\n",
    "A quick review of the main concepts that you learned in this notebook:\n",
    "\n",
    "-**Conditional Statements**: These statements will perform a certain action based on if they return as ```True``` or ```False```\n",
    "\n",
    "-**Operators**: We focused on **3** main types of operators: \n",
    "\n",
    "1) Simple operators: used to compare elements (examples of which are ```==```,```!=```, ```<```, ```>```,```<=```,```>=```)\n",
    "\n",
    "2) Logical operators: used to combine two simple operator statements to determine a final truth value (examples of which are ```and```,```or```, ```not```)\n",
    "\n",
    "3) Membership operators: used to check whether an element **is in** or **not in** another element \n",
    "\n",
    "-**If statements** \n",
    "\n",
    "Write ```if```, then leave a space after ```if``` and write your conditional statement which you will check if it is ```True``` or not. Next, add a colon at the end and finally the action that you would like to perform on the line below if that conditon is satisfied. \n",
    "\n",
    "We also took a look at ```elif``` and ```else```statements. ```elif``` statements provide an alternative condition if the previous one is not met, and ```else``` statements act as an end all if the none of the other conditions are fulfilled. \n",
    "\n",
    "-**For Loops**: allow you to perform a certain action a specific amount of times\n",
    "\n",
    "Basic format  for loops: \n",
    "    -for num in arr:\n",
    "        -print(num)\n",
    "\n",
    "-**While Loops**: allow you to carry out what is programmed to do as long as it meets a certain condition \n",
    "\n",
    "Basic format of while loops: \n",
    "    -while counter != num:\n",
    "    -print(counter)\n",
    "    -counter = counter + 1\n",
    "    \n",
    "Make sure to remember to iterate (increment/alter your counter variable in some way)!\n",
    "\n",
    "\n",
    "That's all :)"
   ]
  },
  {
   "cell_type": "markdown",
   "metadata": {},
   "source": [
    "# End\n",
    "\n",
    "That's all for now with this notebook. Don't worry if you didn't completely understand the content of this notebook. These topics are hard to grasp on the first try! What's important is that you consistently try your best with the coursework and reach out with any questions. \n",
    "\n",
    "Feel free to mess around with and solidify your understanding with code cells! \n",
    "\n",
    "See you in the next notebook!"
   ]
  },
  {
   "cell_type": "markdown",
   "metadata": {},
   "source": [
    "### About this notebook: \n",
    "#### Developed by:\n",
    "* [Milan Butani](https://www.linkedin.com/in/milanbutani/) \n",
    "* [Madeleine Larson](https://www.linkedin.com/in/madeleine-larson/)\n",
    "* [Colin Yee](https://www.linkedin.com/in/colin-yee-b724141ab/)\n",
    "* [Bernice Lau](https://www.linkedin.com/in/bernicelau430/)\n",
    "\n",
    "#### Connect with us:\n",
    "<a href='https://www.linkedin.com/company/lanlearning/'> <img src=https://img.icons8.com/color/48/000000/linkedin.png width=\"48\" height=\"48\" align=\"left\"/></a>\n",
    "\n",
    "<a href='http://www.instagram.com/lanlearning'> <img src=https://img.icons8.com/fluent/48/000000/instagram-new.png width=\"48\" height=\"48\" align=\"left\"/></a>\n",
    "\n",
    "<a href='https://www.youtube.com/channel/UC5_yxU9pz4ka7xITJMxO5WA'> <img src=https://img.icons8.com/color/48/000000/youtube-squared.png width=\"48\" height=\"48\" align=\"left\"/></a>\n",
    "\n",
    "<a href='https://www.github.com/lanlearning/'> <img src=https://img.icons8.com/material-rounded/48/000000/github.png/ width=\"48\" height=\"48\" align=\"left\"/></a>"
   ]
  }
 ],
 "metadata": {
  "kernelspec": {
   "display_name": "Python 3",
   "language": "python",
   "name": "python3"
  },
  "language_info": {
   "codemirror_mode": {
    "name": "ipython",
    "version": 3
   },
   "file_extension": ".py",
   "mimetype": "text/x-python",
   "name": "python",
   "nbconvert_exporter": "python",
   "pygments_lexer": "ipython3",
   "version": "3.8.2"
  }
 },
 "nbformat": 4,
 "nbformat_minor": 4
}
