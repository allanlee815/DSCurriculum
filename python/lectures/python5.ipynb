{
 "cells": [
  {
   "cell_type": "markdown",
   "metadata": {},
   "source": [
    "___\n",
    "\n",
    "<a href='https://www.instagram.com/lanlearning/'> <img src='../pyimages/logosmall.png' width=\"100\" height=\"100\"/></a>\n",
    "___\n",
    "<center>Copyright LanLearning 2020</center>"
   ]
  },
  {
   "cell_type": "markdown",
   "metadata": {},
   "source": [
    "# Welcome Back!"
   ]
  },
  {
   "cell_type": "markdown",
   "metadata": {},
   "source": [
    "Before we start today's lesson, let's do a quick warmup exercise! Answer the questions below!"
   ]
  },
  {
   "cell_type": "markdown",
   "metadata": {},
   "source": [
    "### Why do we need data? And how can we use data to solve real-world problems?"
   ]
  },
  {
   "cell_type": "markdown",
   "metadata": {},
   "source": [
    "Feel free to use the Internet to find answers to these questions!"
   ]
  },
  {
   "cell_type": "markdown",
   "metadata": {},
   "source": [
    "For example, one answer could be that we need data to help combat the coronavirus pandemic. Without any information on who is getting sick and where the covid hotspots are, we would be flying blind. Certain factors such as race, age, area of residency, and pre-existing health conditions are important in determining whether or not someone is high risk or low risk of dying from covid. We wouldn't even be aware of these patterns if it were not for the work of data scientists. We can use data about coronavirus to spot trends and see whether or not we are heading in the right direction."
   ]
  },
  {
   "cell_type": "markdown",
   "metadata": {},
   "source": [
    "LIST OF IDEAS BELOW:"
   ]
  },
  {
   "cell_type": "markdown",
   "metadata": {},
   "source": []
  },
  {
   "cell_type": "markdown",
   "metadata": {},
   "source": []
  },
  {
   "cell_type": "markdown",
   "metadata": {},
   "source": []
  },
  {
   "cell_type": "markdown",
   "metadata": {},
   "source": []
  },
  {
   "cell_type": "markdown",
   "metadata": {},
   "source": [
    "## Today's Topic: NumPy"
   ]
  },
  {
   "cell_type": "markdown",
   "metadata": {},
   "source": [
    "Today, we will be learning **Part 5: NumPy!** We'll be introducing something new and exciting! Let's get started!\n",
    "\n",
    "- Part 1: Basic Data Types\n",
    "- Part 2: Advance Data Types\n",
    "- Part 3: Functions\n",
    "- Part 4: Python Processes\n",
    "- **Part 5: NumPy**"
   ]
  },
  {
   "cell_type": "markdown",
   "metadata": {},
   "source": [
    "## Taking a Deeper Look at Python:\n",
    "\n",
    "In the previous notebooks, we covered the basic fundamentals of the Python language. We learned that there are built-in tools (conditionals, loops, etc) within Python that are very useful when we want to write a program.\n",
    "\n",
    "While the built-in Python tools are powerful, there's still a lot left in Python to learn and uncover. \n",
    "\n",
    "A lot of data science tools are coded by professionals and saved on the internet in the form of **libraries**. \n",
    "\n",
    "### Libraries:\n",
    "A **library** is a resuable piece of code that you can use for your projects. A Python library is built using Python, and all of the code in the library will be in the Python syntax. \n",
    "\n",
    "<br>\n",
    "<img src='../pyimages/lib.jpg' width=\"800\"/>\n",
    "<center> Inside look of UC Berkeley Doe Library </center>\n",
    "<br>\n",
    "\n",
    "### Documentation:\n",
    "A library often includes **documentation**. Documentation is essentially a cheat sheet that provides descriptions of the functions within a library.\n",
    "\n",
    "**In this notebook** we'll be performing mathematical computations using **NumPy**, one of the most widely used math libraries in Python. Next week, we will be using **Pandas**, which is a super useful library for manipulating data. "
   ]
  },
  {
   "cell_type": "markdown",
   "metadata": {},
   "source": [
    "## The NumPy Library: \n",
    "NumPy is a math library that is used to compute and operate on numbers and arrays of numbers. In this notebook, I will introduce NumPy as a tool to help us do math, but you can explore the other features of NumPy on your own! \n",
    "\n",
    "Documentation for it: https://numpy.org/doc/1.18/\n",
    "\n",
    "<br>\n",
    "<img src='../pyimages/numpy.png' width=\"300\"/>\n",
    "<br>\n",
    "\n",
    "### Importing NumPy:\n",
    "Like all libraries, in order to use NumPy, we must import it, as shown in the following line."
   ]
  },
  {
   "cell_type": "code",
   "execution_count": null,
   "metadata": {},
   "outputs": [],
   "source": [
    "import numpy"
   ]
  },
  {
   "cell_type": "markdown",
   "metadata": {},
   "source": [
    "Typically, you want to give your library a nickname so it's easier to refer to. Let's give our imported library the nickname ```np``` by using ```as``` in our import statement:"
   ]
  },
  {
   "cell_type": "code",
   "execution_count": null,
   "metadata": {},
   "outputs": [],
   "source": [
    "import numpy as np"
   ]
  },
  {
   "cell_type": "markdown",
   "metadata": {},
   "source": [
    "*Note*: Running import statements doesn't return anything, so don't worry about the absence of output."
   ]
  },
  {
   "cell_type": "code",
   "execution_count": null,
   "metadata": {},
   "outputs": [],
   "source": []
  },
  {
   "cell_type": "code",
   "execution_count": null,
   "metadata": {},
   "outputs": [],
   "source": []
  },
  {
   "cell_type": "code",
   "execution_count": null,
   "metadata": {},
   "outputs": [],
   "source": []
  },
  {
   "cell_type": "markdown",
   "metadata": {},
   "source": [
    "## A Few Examples:\n",
    "\n",
    "Whenever you use a function from numpy, you always need to add ```np``` before the function name. Then, leave a dot and call the function you want to use. Make sure to pass in any required parameters to the function.\n",
    "\n",
    "The dot represents the fact that the function is a part of the numpy library."
   ]
  },
  {
   "cell_type": "code",
   "execution_count": null,
   "metadata": {},
   "outputs": [],
   "source": [
    "# .sqrt() takes the square root of the parameter\n",
    "np.sqrt(4)"
   ]
  },
  {
   "cell_type": "code",
   "execution_count": null,
   "metadata": {},
   "outputs": [],
   "source": [
    "# .round() will round the first parameter to the second parameter number of decimal places\n",
    "np.round(3.57688283, 4)"
   ]
  },
  {
   "cell_type": "code",
   "execution_count": null,
   "metadata": {},
   "outputs": [],
   "source": [
    "# .round() if you only pass in one parameter, it will round it to the nearest integer\n",
    "np.round(3.56788283)"
   ]
  },
  {
   "cell_type": "markdown",
   "metadata": {},
   "source": [
    "So you might be **wondering** how I know that ```.round()``` works the way it does? I can read about how these functions work from the documentation. \n",
    "\n",
    "Check it out: https://numpy.org/doc/stable/reference/generated/numpy.round_.html?highlight=numpy.round#numpy.round_\n",
    "\n",
    "Another great place to get information about your code is StackOverflow,  people post really detailed explanations here: https://stackoverflow.com/questions/22261843/python-np-round-with-decimal-option-larger-than-2"
   ]
  },
  {
   "cell_type": "markdown",
   "metadata": {},
   "source": [
    "You can also use numpy to access the value of pi! Run the cell below!"
   ]
  },
  {
   "cell_type": "code",
   "execution_count": null,
   "metadata": {},
   "outputs": [],
   "source": [
    "np.pi"
   ]
  },
  {
   "cell_type": "markdown",
   "metadata": {},
   "source": [
    "## Why Use Numpy?\n",
    "The most important feature (and one of the main reasons why numpy is used) is its **element by element computation**. \n",
    "\n",
    "Before jumping into that, feel free to explore the numpy library further! There are a lot of cool things you can accomplish using numpy functions. "
   ]
  },
  {
   "cell_type": "code",
   "execution_count": null,
   "metadata": {},
   "outputs": [],
   "source": []
  },
  {
   "cell_type": "code",
   "execution_count": null,
   "metadata": {},
   "outputs": [],
   "source": []
  },
  {
   "cell_type": "code",
   "execution_count": null,
   "metadata": {},
   "outputs": [],
   "source": []
  },
  {
   "cell_type": "markdown",
   "metadata": {},
   "source": [
    "### Element-by-Element Computation:\n",
    "I think the best way to understand element by element computation is through an example:\n",
    "\n",
    "Element by element computation is when you have two lists, say ```[1, 2, 3]``` and ```[3, 2, 1]```, and you want to add the elements of the two lists together according to their index so you get ```[4, 4, 4]```. Essentially, this is ```[1 + 3, 2 + 2, 3 + 1]```.\n",
    "\n",
    "Let's try it out:"
   ]
  },
  {
   "cell_type": "code",
   "execution_count": null,
   "metadata": {},
   "outputs": [],
   "source": [
    "[1, 2, 3] + [3, 2, 1]"
   ]
  },
  {
   "cell_type": "markdown",
   "metadata": {},
   "source": [
    "#### Yeah . . . turns out you can't simply add them together . . . \n",
    "\n",
    "So, you're going to need to try something a bit more complicated . . . such as a for loop.\n",
    "\n",
    "**However**, if these lists were numpy arrays, then you could simply add them together:"
   ]
  },
  {
   "cell_type": "code",
   "execution_count": null,
   "metadata": {},
   "outputs": [],
   "source": [
    "# to turn a list into a numpy array, use the np.array() function\n",
    "np.array([1, 2, 3]) + np.array([3, 2, 1]) # yay!!"
   ]
  },
  {
   "cell_type": "markdown",
   "metadata": {},
   "source": [
    "Notice that this time when you added the two lists (which were numpy arrays) together, you got what you wanted. "
   ]
  },
  {
   "cell_type": "code",
   "execution_count": null,
   "metadata": {},
   "outputs": [],
   "source": [
    "np.array(['Turn', 'this', 'into', 'a', 'Numpy', 'array!'])"
   ]
  },
  {
   "cell_type": "markdown",
   "metadata": {
    "scrolled": true
   },
   "source": [
    "You can tell its a numpy array because of what is returned ```array(['Turn', 'this', 'into', 'a', 'Numpy', 'array!'], dtype='<U6')```\n",
    "\n",
    "Here ```dtype='<U6'``` tells you what the data type within the array is. "
   ]
  },
  {
   "cell_type": "markdown",
   "metadata": {},
   "source": [
    "<br>\n",
    "<img src='../pyimages/scipy.png' width=\"800\"/>\n",
    "<center> From SciPy Lecture Notes </center>\n",
    "<br>"
   ]
  },
  {
   "cell_type": "markdown",
   "metadata": {},
   "source": [
    "However, you can't add numpy arrays of Strings together. You'll get an error."
   ]
  },
  {
   "cell_type": "code",
   "execution_count": null,
   "metadata": {},
   "outputs": [],
   "source": [
    "np.array(['hi', 'hi']) + np.array(['Daniel', 'Mario']) "
   ]
  },
  {
   "cell_type": "markdown",
   "metadata": {},
   "source": [
    "### Using np.arange() "
   ]
  },
  {
   "cell_type": "markdown",
   "metadata": {},
   "source": [
    "You can use the function ```.arange()``` to quickly create a numpy array of numbers. The method ```.arange()``` can have at most 3 parameters but has to have at least one parameter."
   ]
  },
  {
   "cell_type": "markdown",
   "metadata": {},
   "source": [
    "One way is to write np.arange(start, stop, step). This will create an array of numbers starting with start, going up in increments of step, and going up to but excluding stop."
   ]
  },
  {
   "cell_type": "code",
   "execution_count": null,
   "metadata": {},
   "outputs": [],
   "source": [
    "first_array = np.arange(0, 10, 2) \n",
    "first_array"
   ]
  },
  {
   "cell_type": "markdown",
   "metadata": {},
   "source": [
    "A second way is to write np.arange(start, stop)"
   ]
  },
  {
   "cell_type": "code",
   "execution_count": null,
   "metadata": {},
   "outputs": [],
   "source": [
    "second_array = np.arange(1, 9)\n",
    "second_array"
   ]
  },
  {
   "cell_type": "markdown",
   "metadata": {},
   "source": [
    "The final way is np.arange(stop)"
   ]
  },
  {
   "cell_type": "code",
   "execution_count": null,
   "metadata": {},
   "outputs": [],
   "source": [
    "third_array = np.arange(7)\n",
    "third_array"
   ]
  },
  {
   "cell_type": "markdown",
   "metadata": {},
   "source": [
    "The parameters in ```np.arange()``` do not only have to be ints. They can be floats (also known as decimals) as well."
   ]
  },
  {
   "cell_type": "code",
   "execution_count": null,
   "metadata": {},
   "outputs": [],
   "source": [
    "np.arange(1.2, 22, 1.5)"
   ]
  },
  {
   "cell_type": "markdown",
   "metadata": {},
   "source": [
    "**Numpy has this ability to treat computations or arrays element-by-element, and that's where the power of Numpy comes from**.\n",
    "\n",
    "You can do all sorts of computation, not just addition:"
   ]
  },
  {
   "cell_type": "code",
   "execution_count": null,
   "metadata": {},
   "outputs": [],
   "source": [
    "np.array([1, 2, 3]) - np.array([3, 2, 1])"
   ]
  },
  {
   "cell_type": "code",
   "execution_count": null,
   "metadata": {},
   "outputs": [],
   "source": [
    "np.array([1, 2, 3]) * np.array([3, 2, 1])"
   ]
  },
  {
   "cell_type": "code",
   "execution_count": null,
   "metadata": {},
   "outputs": [],
   "source": [
    "np.sqrt([1, 2, 3])"
   ]
  },
  {
   "cell_type": "markdown",
   "metadata": {},
   "source": [
    "## Why Does This Matter?\n",
    "\n",
    "When we get to Pandas, the ability to do element-by-element math becomes important. This will allow us to simply add two lists of our data together. \n",
    "\n",
    "Hold tight on seeing this come to fruition; it'll be a big part of our Pandas lessons!"
   ]
  },
  {
   "cell_type": "markdown",
   "metadata": {},
   "source": [
    "## Something Random!\n",
    "\n",
    "<br>\n",
    "<img src='../pyimages/coin.png' width=\"400\"/>\n",
    "<center> Source: JustFlipACoin.com </center>\n",
    "<br>\n",
    "\n",
    "\n",
    "With the Numpy library, you can execute a task that involves random selection, such as simulating the toss of a coin. \n",
    "\n",
    "Use the ```np.random.choice()``` function:"
   ]
  },
  {
   "cell_type": "code",
   "execution_count": null,
   "metadata": {},
   "outputs": [],
   "source": [
    "np.random.choice(['Heads', 'Tails'])"
   ]
  },
  {
   "cell_type": "markdown",
   "metadata": {},
   "source": [
    "Keep running it a few times, and you should start seeing different outputs.\n",
    "\n",
    "Here I'm going to toss 10 coins:"
   ]
  },
  {
   "cell_type": "code",
   "execution_count": null,
   "metadata": {},
   "outputs": [],
   "source": [
    "np.random.choice(['Heads', 'Tails'], 10)"
   ]
  },
  {
   "cell_type": "markdown",
   "metadata": {},
   "source": [
    "Can you think of any other situations in which the outcome is random? Let's code them below!"
   ]
  },
  {
   "cell_type": "code",
   "execution_count": null,
   "metadata": {},
   "outputs": [],
   "source": []
  },
  {
   "cell_type": "code",
   "execution_count": null,
   "metadata": {},
   "outputs": [],
   "source": []
  },
  {
   "cell_type": "code",
   "execution_count": null,
   "metadata": {},
   "outputs": [],
   "source": []
  },
  {
   "cell_type": "markdown",
   "metadata": {},
   "source": [
    "## Recap\n",
    "- numpy is an extremely useful math library in Python, to import it and give it a shorter nickname write ```import numpy as np```\n",
    "- to call a function that is part of the numpy library, use the syntax np.function_name(any_parameters)\n",
    "- ex: ```np.sqrt(4)```, ```np.round(3.456, 2)```\n",
    "- one important and advantageous feature of numpy is its element by element computation, lists are not capable of element by element computation and can be turned into a numpy array by using the function np.array()\n",
    "- ex: ```np.array([1, 2, 3]) * np.array[2, 2, 2]``` ---> array([2, 4, 6])\n",
    "- can create an array of numbers by using the function np.arange(start, stop, step), which needs to have at least 1 parameter (stop), at most 3 parameters\n",
    "- ex: ```np.arange(0, 6, 2)``` ---> array(0, 2, 4)\n",
    "- you can use the function np.random.choice(list_of_choices, number_of_times_chosen) to randomly choose a value from a list of values a specified number of times\n",
    "- ex: ```np.random.choice(['Heads', 'Tails'], 10)```\n",
    "- website for numpy documentation: https://numpy.org/doc/1.18/"
   ]
  },
  {
   "cell_type": "markdown",
   "metadata": {},
   "source": [
    "# End\n",
    "\n",
    "That's all for now with this NumPy notebook. \n",
    "\n",
    "Feel free to mess around with the code cells to help solidify your understanding of NumPy! \n",
    "\n",
    "See you in the next notebook!"
   ]
  },
  {
   "cell_type": "markdown",
   "metadata": {},
   "source": [
    "### About This Notebook: \n",
    "#### Developed by:\n",
    "* [Milan Butani](https://www.linkedin.com/in/milanbutani/) \n",
    "* [Kyra Yee](https://www.linkedin.com/in/kyrayee/)\n",
    "\n",
    "#### Connect with us:\n",
    "<a href='https://www.linkedin.com/company/lanlearning/'> <img src=https://img.icons8.com/color/48/000000/linkedin.png width=\"48\" height=\"48\" align=\"left\"/></a>\n",
    "\n",
    "<a href='http://www.instagram.com/lanlearning'> <img src=https://img.icons8.com/fluent/48/000000/instagram-new.png width=\"48\" height=\"48\" align=\"left\"/></a>\n",
    "\n",
    "<a href='https://www.youtube.com/channel/UC5_yxU9pz4ka7xITJMxO5WA'> <img src=https://img.icons8.com/color/48/000000/youtube-squared.png width=\"48\" height=\"48\" align=\"left\"/></a>\n",
    "\n",
    "<a href='https://www.github.com/lanlearning/'> <img src=https://img.icons8.com/material-rounded/48/000000/github.png/ width=\"48\" height=\"48\" align=\"left\"/></a>"
   ]
  },
  {
   "cell_type": "code",
   "execution_count": null,
   "metadata": {},
   "outputs": [],
   "source": []
  }
 ],
 "metadata": {
  "kernelspec": {
   "display_name": "Python 3",
   "language": "python",
   "name": "python3"
  },
  "language_info": {
   "codemirror_mode": {
    "name": "ipython",
    "version": 3
   },
   "file_extension": ".py",
   "mimetype": "text/x-python",
   "name": "python",
   "nbconvert_exporter": "python",
   "pygments_lexer": "ipython3",
   "version": "3.8.2"
  }
 },
 "nbformat": 4,
 "nbformat_minor": 4
}
