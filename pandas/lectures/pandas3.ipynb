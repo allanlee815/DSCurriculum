{
 "cells": [
  {
   "cell_type": "markdown",
   "metadata": {},
   "source": [
    "___\n",
    "\n",
    "<a href='https://www.instagram.com/lanlearning/'> <img src='../pimages/logosmall.png' width=\"100\" height=\"100\"/></a>\n",
    "___\n",
    "<center>Copyright LanLearning 2020</center>\n",
    "\n",
    "\n",
    "\n"
   ]
  },
  {
   "cell_type": "markdown",
   "metadata": {},
   "source": [
    "# Welcome back to Pandas! Part 3!\n",
    "\n",
    "In this notebook, we will be working with another simple DataFrame and doing some more data manipulations! Yay!!\n",
    "\n",
    "Here are some things you will learn:\n",
    "- how to import big data from Kaggle \n",
    "- how to clean part of the dataset\n",
    "- manipulating the values in a dataset\n",
    "- grouping your table by certain features/attributes\n",
    "- putting conditions on your dataframe"
   ]
  },
  {
   "cell_type": "code",
   "execution_count": null,
   "metadata": {},
   "outputs": [],
   "source": [
    "# first thing's first,\n",
    "\n",
    "import pandas as pd"
   ]
  },
  {
   "cell_type": "markdown",
   "metadata": {},
   "source": [
    "## About the Data:\n",
    "Just to give you a feel for the different domains within data science, we will use various types of datasets. \n",
    "\n",
    "Today's dataset will be related to music. The file is in the link below, which is taken directly from the internet: https://www.kaggle.com/geomack/spotifyclassification. \n",
    "\n",
    "Let's get into it."
   ]
  },
  {
   "cell_type": "markdown",
   "metadata": {},
   "source": [
    "### If the cell below errors:\n",
    "Copy the file path for the file music data ```music_data``` and paste it inside the parenthesis in the cell below.\n",
    "\n",
    "```pd.read_csv()``` the file ```music_data``` and store it under the variable name ```music```, you should be good to go! "
   ]
  },
  {
   "cell_type": "code",
   "execution_count": null,
   "metadata": {},
   "outputs": [],
   "source": [
    "music = pd.read_csv('musics_data.csv')\n",
    "music.head(10)"
   ]
  },
  {
   "cell_type": "code",
   "execution_count": null,
   "metadata": {},
   "outputs": [],
   "source": [
    "music = pd.read_csv('music_data.csv')\n",
    "music.head()"
   ]
  },
  {
   "cell_type": "markdown",
   "metadata": {},
   "source": [
    "## Exploratory Data Analysis\n",
    "Before we go ahead and work with a dataset, we first need to explore it. This will give us enough context to help us perform meaningful data science techniques later on. \n",
    "\n",
    "There are a bunch of things you can do to explore the dataset that we haven't learned about. But we'll just use what we know for now. "
   ]
  },
  {
   "cell_type": "code",
   "execution_count": null,
   "metadata": {},
   "outputs": [],
   "source": [
    "# shape of the frame\n",
    "\n",
    "music.shape"
   ]
  },
  {
   "cell_type": "markdown",
   "metadata": {},
   "source": [
    "#### What does this mean?"
   ]
  },
  {
   "cell_type": "code",
   "execution_count": null,
   "metadata": {},
   "outputs": [],
   "source": [
    "music.describe()"
   ]
  },
  {
   "cell_type": "markdown",
   "metadata": {},
   "source": [
    "### What does ```.describe()``` do?\n",
    "\n",
    "If you look, the row labels for the dataframe are above (this is the bolded column all the way out and to the left). \n",
    "\n",
    "This **describes** each of our columns that have numbers in them. \n",
    "\n",
    "- **count**: describes the number of elements in the column (which should be be the same as the number of rows)\n",
    "- **mean**: represents the mean of the column\n",
    "- **std**: represents the standard deviation of the column\n",
    "- **min**: represents the minimum of the column\n",
    "- **25, 50, 75%**: these are the quartiles \n",
    "    - what this means is that if you order your data numerical, then the value shown at  the \\_\\_% mark will be greater than \\_\\_% of your data\n",
    "- **max**: represents the maximum of the column"
   ]
  },
  {
   "cell_type": "markdown",
   "metadata": {},
   "source": [
    "### Using Set\n",
    "\n",
    "Let's use our knowledge from past Python lessons to answer these questions: \n",
    "\n",
    "#### Who are some of the artists in our dataset? How many unique artists are represented in our data?"
   ]
  },
  {
   "cell_type": "code",
   "execution_count": null,
   "metadata": {},
   "outputs": [],
   "source": [
    "# that is the 'artist' column:\n",
    "music['artist']"
   ]
  },
  {
   "cell_type": "markdown",
   "metadata": {},
   "source": [
    "That up there ^ is the series of the ```artist``` column. \n",
    "\n",
    "This dataset features artists such as **Drake**, **Future**, and **The Chainsmokers**.\n",
    "\n",
    "<br>\n",
    "<img src='../pimages/future.jpeg' width=\"600\"/>\n",
    "<br>\n",
    "\n",
    "### ```.values```\n",
    "To get the values in that column, use ```.values```."
   ]
  },
  {
   "cell_type": "code",
   "execution_count": null,
   "metadata": {},
   "outputs": [],
   "source": [
    "music['artist'].values"
   ]
  },
  {
   "cell_type": "markdown",
   "metadata": {},
   "source": [
    "*Notice* how this is an array. Specifically, a **numpy array**. Now we can work with this, but first, let's store this array in a variable so we can use it later:"
   ]
  },
  {
   "cell_type": "code",
   "execution_count": null,
   "metadata": {},
   "outputs": [],
   "source": [
    "artists = music['artist'].values"
   ]
  },
  {
   "cell_type": "code",
   "execution_count": null,
   "metadata": {},
   "outputs": [],
   "source": [
    "len(artists)\n",
    "\n",
    "# this makes sense as there are 2017 rows in our data."
   ]
  },
  {
   "cell_type": "markdown",
   "metadata": {},
   "source": [
    "Remember that in past Python notebooks calling ```set()``` on an array or list will remove the duplicates:"
   ]
  },
  {
   "cell_type": "code",
   "execution_count": null,
   "metadata": {},
   "outputs": [],
   "source": [
    "artists_set = set(artists)"
   ]
  },
  {
   "cell_type": "code",
   "execution_count": null,
   "metadata": {},
   "outputs": [],
   "source": [
    "# calling len() on artist_set will show us how many unique artists there are, right?\n",
    "\n",
    "len(artists_set)"
   ]
  },
  {
   "cell_type": "markdown",
   "metadata": {},
   "source": [
    "This means there are ```1343``` unique artists in our dataset. "
   ]
  },
  {
   "cell_type": "markdown",
   "metadata": {},
   "source": [
    "## A Shortuct\n",
    "\n",
    "Another way to quickly find unique values is by using ```.unique()```, which will give you an array with no duplicate artists:"
   ]
  },
  {
   "cell_type": "code",
   "execution_count": null,
   "metadata": {},
   "outputs": [],
   "source": [
    "music['artist'].unique()"
   ]
  },
  {
   "cell_type": "code",
   "execution_count": null,
   "metadata": {},
   "outputs": [],
   "source": [
    "artists_using_unique = music['artist'].unique()"
   ]
  },
  {
   "cell_type": "code",
   "execution_count": null,
   "metadata": {},
   "outputs": [],
   "source": [
    "len(artists_using_unique)"
   ]
  },
  {
   "cell_type": "markdown",
   "metadata": {},
   "source": [
    "It's the same length as above!"
   ]
  },
  {
   "cell_type": "markdown",
   "metadata": {},
   "source": [
    "## How many times does Drake appear in the dataset? \n",
    "\n",
    "**Drake** is a ```value``` in our dataset. To see how many times he shows up, we can use a method called ```value_counts()```, which shows us the counts for each of the values in a column (which is ```artists``` in this scenario):"
   ]
  },
  {
   "cell_type": "code",
   "execution_count": null,
   "metadata": {},
   "outputs": [],
   "source": [
    "music['artist'].value_counts()"
   ]
  },
  {
   "cell_type": "markdown",
   "metadata": {},
   "source": [
    "Drake appears 16 times in our frame, more than anyone else. \n",
    "\n",
    "Rick Ross appears 13 times. \n",
    "\n",
    "Disclosure appears 12 times in our frame above. \n",
    "\n",
    "## A More In-Depth Look:\n",
    "Let's use our frame and take a more in-depth look at one of the artists ... let's choose **Disclosure**! \n",
    "\n",
    "<br>\n",
    "<img src='../pimages/disclosure.jpg' width=\"600\"/>\n",
    "<br>\n",
    "\n",
    "Let's take a look at all of our rows where Disclosure is the artist: \n",
    "\n",
    "Here's some things we know:\n",
    "1. We know that 'Disclosure' will be in our 'artist' column\n",
    "2. The 'artist' column is part of our ```music``` frame.\n",
    "\n",
    "Essentially we will need to check for where ```artist``` ```==``` ```'Disclosure'``` in our frame. \n",
    "\n",
    "Take a look at the code first, and we'll go through the general process afterwards:"
   ]
  },
  {
   "cell_type": "code",
   "execution_count": null,
   "metadata": {},
   "outputs": [],
   "source": [
    "music[music['artist'] == 'Drake']\n",
    "\n",
    "# == means equal to (simple operators)\n",
    "# column selection from pandas2"
   ]
  },
  {
   "cell_type": "code",
   "execution_count": null,
   "metadata": {},
   "outputs": [],
   "source": [
    "music['artist'] == 'Disclosure'"
   ]
  },
  {
   "cell_type": "markdown",
   "metadata": {},
   "source": [
    "### Make Some Observations: \n",
    "Make sure that all the rows have ```'Disclosure'``` as the artist! \n",
    "\n",
    "Lets double check that there is 12 rows (which is what we found earlier). "
   ]
  },
  {
   "cell_type": "code",
   "execution_count": null,
   "metadata": {},
   "outputs": [],
   "source": [
    "music['artist'].value_counts()['Disclosure']"
   ]
  },
  {
   "cell_type": "code",
   "execution_count": null,
   "metadata": {},
   "outputs": [],
   "source": [
    "len(music[music['artist'] == 'Disclosure'])"
   ]
  },
  {
   "cell_type": "markdown",
   "metadata": {},
   "source": [
    "### Let's Break Down the Code: \n",
    "\n",
    "We wrote ```music[music['artist'] == 'Disclosure']```. \n",
    "\n",
    "The conditional statement here is: ```music['artist'] == 'Disclosure'```. \n",
    "\n",
    "This is checking to see if the column ```'artist'``` in the ```music``` frame is ```==``` to ```'Disclosure'```. \n",
    "\n",
    "We can actually see what this returns: "
   ]
  },
  {
   "cell_type": "code",
   "execution_count": null,
   "metadata": {},
   "outputs": [],
   "source": [
    "music['artist'] == 'Disclosure'"
   ]
  },
  {
   "cell_type": "markdown",
   "metadata": {},
   "source": [
    "### A Series of Booleans:\n",
    "The conditional statement with the pandas column (```music['artist'] == 'Disclosure'```) returned a boolean series (as displayed above), which we then used to index our frame to get what we wanted (```music[music['artist'] == 'Disclosure']```). <br>\n",
    "\n",
    "\n",
    "**We need to pass in this series of booleans (which consist of ```True``` and ```False``` values that are based on our conditional statement) to slice into the frame so it displays only the indices where it is True.**\n",
    "\n",
    "### The General Form:\n",
    "Use ```df``` to represent your DataFrame, ```col``` for the column name, and ```item``` for the value in that column that you want: \n",
    "\n",
    "Write this condition as: ```df[df[col] == item]```. "
   ]
  },
  {
   "cell_type": "markdown",
   "metadata": {},
   "source": [
    "## Marshmello: \n",
    "\n",
    "<br>\n",
    "<img src='../pimages/marsh.jpg' width=\"600\"/>\n",
    "<br>\n",
    "\n",
    "Let's check if **Marshmello** is in our frame: "
   ]
  },
  {
   "cell_type": "code",
   "execution_count": null,
   "metadata": {},
   "outputs": [],
   "source": [
    "music[music['artist'] == 'Marshmello']"
   ]
  },
  {
   "cell_type": "markdown",
   "metadata": {},
   "source": [
    "### Combining Multiple Conditions:\n",
    "How to slice into our DataFrame where we want not only one but **two** conditions to be met! \n",
    "\n",
    "#### Drake and Disclosure: \n",
    "For two conditions where you want both of them to be ```True```, you need to enclose each condition in parentheses and put a ```&``` in between.  Check it out: "
   ]
  },
  {
   "cell_type": "code",
   "execution_count": null,
   "metadata": {},
   "outputs": [],
   "source": [
    "music[(music['artist'] == 'Drake') & (music['artist'] == 'Disclosure')]"
   ]
  },
  {
   "cell_type": "markdown",
   "metadata": {},
   "source": [
    "Nothing is returned because we don't have an instance (in this case, a song), where the artist is both Drake and Disclosure."
   ]
  },
  {
   "cell_type": "markdown",
   "metadata": {},
   "source": [
    "#### Drake or Disclosure: \n",
    "For two conditions where you want at least one of them to be ```True```, enclose each condition in parentheses and put a ```|``` in between. Check it out: "
   ]
  },
  {
   "cell_type": "code",
   "execution_count": null,
   "metadata": {
    "scrolled": false
   },
   "outputs": [],
   "source": [
    "music[(music['artist'] == 'Drake') | (music['artist'] == 'Disclosure')]"
   ]
  },
  {
   "cell_type": "code",
   "execution_count": null,
   "metadata": {},
   "outputs": [],
   "source": [
    "#try implementing some of your own condition insideor experimenting to look at different artist."
   ]
  },
  {
   "cell_type": "markdown",
   "metadata": {},
   "source": [
    "With `|`, both songs by Drake and Disclosure are included."
   ]
  },
  {
   "cell_type": "markdown",
   "metadata": {},
   "source": [
    "<br>\n",
    "<img src='../pimages/nipsey.jpeg' width=\"400\"/>\n",
    "<br>"
   ]
  },
  {
   "cell_type": "markdown",
   "metadata": {},
   "source": [
    "## Recap \n",
    "\n",
    "- ```.describe()``` provides statistical insights (such as count, mean, std, min, max) about the columns in a dataframe whose values are numerical\n",
    "- to find the number of unique values in a column within a dataframe, you can either use ```set()``` or ```unique()```:\n",
    "    - ```len(set(df_name[\"column_name\"].values))```\n",
    "    - ```len(df_name[\"column_name\"].unique())```\n",
    "- use ```value_counts()``` to see how many times each value appears in a specific column, ex: ```df_name[\"column_name\"].value_counts()```\n",
    "- if you want to slice your dataframe to view only your desired portion, you should follow the written format ```df[df[\"col\"] == \"item\"]```, which will give you the parts of the original dataframe that include the name ```item``` in the column ```col```\n",
    "- if you want to slice your dataframe to view only the portion of it that meets two separate requirements, you should follow the format ```df[(df[\"col\"] == \"item_1\") & (df[\"col\"] == \"item_2\")]```\n",
    "- if you want to slice your dataframe to view only the portion of it that meets at least one of two separate requirements, you should follow the format ```df[(df[\"col\"] == \"item_1\") | (df[\"col\"] == \"item_2\")]```"
   ]
  },
  {
   "cell_type": "markdown",
   "metadata": {},
   "source": [
    "# End\n",
    "In the next notebook, we'll add a column to our ```music``` frame.\n",
    "\n",
    "### About this notebook: \n",
    "#### Developed by:\n",
    "* [Milan Butani](https://www.linkedin.com/in/milanbutani/) \n",
    "* [Kyra Yee](https://www.linkedin.com/in/kyrayee/)\n",
    "* [Jacqueline Mei](https://www.linkedin.com/in/jacqueline-mei-9140401aa/)\n",
    "* [Liam McDonough](https://www.linkedin.com/in/liammmcdonough/)\n",
    "* [Amy Tran](https://www.linkedin.com/in/amytran2303/)\n",
    "\n",
    "#### Connect with us:\n",
    "<a href='https://www.linkedin.com/company/lanlearning/'> <img src=https://img.icons8.com/color/48/000000/linkedin.png width=\"48\" height=\"48\" align=\"left\"/></a>\n",
    "\n",
    "<a href='http://www.instagram.com/lanlearning'> <img src=https://img.icons8.com/fluent/48/000000/instagram-new.png width=\"48\" height=\"48\" align=\"left\"/></a>\n",
    "\n",
    "<a href='https://www.youtube.com/channel/UC5_yxU9pz4ka7xITJMxO5WA'> <img src=https://img.icons8.com/color/48/000000/youtube-squared.png width=\"48\" height=\"48\" align=\"left\"/></a>\n",
    "\n",
    "<a href='https://www.github.com/lanlearning/'> <img src=https://img.icons8.com/material-rounded/48/000000/github.png/ width=\"48\" height=\"48\" align=\"left\"/></a>\n",
    "\n",
    "\n"
   ]
  },
  {
   "cell_type": "code",
   "execution_count": null,
   "metadata": {},
   "outputs": [],
   "source": []
  }
 ],
 "metadata": {
  "kernelspec": {
   "display_name": "Python 3",
   "language": "python",
   "name": "python3"
  },
  "language_info": {
   "codemirror_mode": {
    "name": "ipython",
    "version": 3
   },
   "file_extension": ".py",
   "mimetype": "text/x-python",
   "name": "python",
   "nbconvert_exporter": "python",
   "pygments_lexer": "ipython3",
   "version": "3.8.2"
  }
 },
 "nbformat": 4,
 "nbformat_minor": 4
}
