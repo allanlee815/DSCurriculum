{
 "cells": [
  {
   "cell_type": "markdown",
   "metadata": {},
   "source": [
    "___\n",
    "\n",
    "<a href='https://www.instagram.com/lanlearning/'> <img src='../pimages/logosmall.png' width=\"100\" height=\"100\"/></a>\n",
    "___\n",
    "<center>Copyright LanLearning 2020</center>\n",
    "\n",
    "\n",
    "\n"
   ]
  },
  {
   "cell_type": "markdown",
   "metadata": {},
   "source": [
    "# Welcome Back! "
   ]
  },
  {
   "cell_type": "markdown",
   "metadata": {},
   "source": [
    "# Welcome to the first Notebook for Pandas! \n",
    "\n",
    "This notebook is just an introduction to Pandas and the type of Data Files you can use to analyze different datasets.\n",
    "\n",
    "## What is Pandas?\n",
    "<br>\n",
    "<img src='../pimages/pandas.png' width=\"300\"/>\n",
    "<br>\n",
    "Similar to NumPy, Pandas is a Python library. (Which just means that Pandas is written using Python.)\n",
    "\n",
    "**Pandas** is useful for data manipulation and data analysis. It offers users the ability to use pre-made data structures and operations that will do all the data manipulation for us. Pandas also makes use of some of the functions of Numpy, so you will see things like element-by-element computation that can be done with Numpy.\n",
    "\n",
    "Pandas will put data into a **DataFrame** (basically, a table), which we can interact with and use for our data analysis.\n",
    "\n",
    "Pandas is a library, so let's import it as ```pd```:"
   ]
  },
  {
   "cell_type": "code",
   "execution_count": null,
   "metadata": {},
   "outputs": [],
   "source": [
    "import pandas as pd"
   ]
  },
  {
   "cell_type": "markdown",
   "metadata": {},
   "source": [
    "#### Pandas is useful only with data, so how do we get the data in the right format so we can use it with Pandas?\n",
    "\n",
    "## What is a .csv file, and some other data sources:\n",
    "A **.csv file** is a common file type that is used in junction with Pandas. CSV stands for \"comma-separated values\", where the values inside the file are separated by a comma. Take a look: \n",
    "\n",
    "<br>\n",
    "<img src='../pimages/csvim.png' width=\"900\"/>\n",
    "<br>\n",
    "\n",
    "The quality of this file is a bit low, but you can see that there are 10 rows where all the values are separated by a comma. The first row are the column headers or names, and the rows after that are rows in the table where the value corresponds with the title from the first row.\n",
    "\n",
    "For example, in row $\\#2$, the date was $04/16/2020$, there were $56$ states with a positive value of $663260$ and a negative value of $2737804$, and so on...\n",
    "\n",
    "\n",
    "This file is titled **corona.csv** and the data inside is information about the coronavirus. \n",
    "\n",
    "Before going into some other file types, let's just take a look at **corona.csv**, and see it in a table form. \n",
    "\n",
    "Here's the code for that for now, it's explained a bit further down:"
   ]
  },
  {
   "cell_type": "code",
   "execution_count": null,
   "metadata": {},
   "outputs": [],
   "source": [
    "pd.read_csv('corona.csv')"
   ]
  },
  {
   "cell_type": "markdown",
   "metadata": {},
   "source": [
    "Now if you look at the first row with numbers, everything is in line with what we noticed above in the picture of the .csv file. "
   ]
  },
  {
   "cell_type": "markdown",
   "metadata": {},
   "source": [
    "This is the DataFrame (aka table) returned by calling ```pd.read_csv()```. But it isn't saved to a variable, so what we will do is store the dataframe under the variable name ```corona```:"
   ]
  },
  {
   "cell_type": "code",
   "execution_count": null,
   "metadata": {},
   "outputs": [],
   "source": [
    "# we're going to call this DataFrame (or table) corona\n",
    "\n",
    "corona = pd.read_csv('corona.csv')\n",
    "corona"
   ]
  },
  {
   "cell_type": "markdown",
   "metadata": {},
   "source": [
    "Now that's a long table! It sure takes up a lot of space. Let's use the function ```.head()``` just to see a portion of the frame. "
   ]
  },
  {
   "cell_type": "code",
   "execution_count": null,
   "metadata": {},
   "outputs": [],
   "source": [
    "# calling .head() will show us the top 5 rows of the DataFrame\n",
    "\n",
    "corona.head()"
   ]
  },
  {
   "cell_type": "markdown",
   "metadata": {},
   "source": [
    "Keep in mind, that calling ```.head()``` only shows the top 5 rows. You can pass a number in ```.head()``` to see that number of rows:"
   ]
  },
  {
   "cell_type": "code",
   "execution_count": null,
   "metadata": {},
   "outputs": [],
   "source": [
    "# this shows the top 10 rows\n",
    "\n",
    "corona.head(10)"
   ]
  },
  {
   "cell_type": "code",
   "execution_count": null,
   "metadata": {},
   "outputs": [],
   "source": [
    "# .tail(10) will show the bottom 10 rows\n",
    "\n",
    "corona.tail(10)"
   ]
  },
  {
   "cell_type": "markdown",
   "metadata": {},
   "source": [
    "Notice ^ this up here; that's the shape or dimensions of the frame. "
   ]
  },
  {
   "cell_type": "markdown",
   "metadata": {},
   "source": [
    "You can also access the number of rows and columns the frame has by using .shape"
   ]
  },
  {
   "cell_type": "code",
   "execution_count": null,
   "metadata": {},
   "outputs": [],
   "source": [
    "corona.tail(10).shape # see! the dimensions are the same as the one stated above"
   ]
  },
  {
   "cell_type": "markdown",
   "metadata": {},
   "source": [
    "**We got a little distracted with the ```.head()``` and ```.tail()``` functions. But let's recap real quick about how we made the dataframe**\n",
    "\n",
    "In order to read in the data from our ```.csv``` file, we used the ```read_csv()``` function of the ```pd``` or pandas library. \n",
    "\n",
    "Putting all of this together we used ```pd.read_csv()``` with the file name ```corona.csv``` passed into the function. "
   ]
  },
  {
   "cell_type": "code",
   "execution_count": null,
   "metadata": {},
   "outputs": [],
   "source": []
  },
  {
   "cell_type": "code",
   "execution_count": null,
   "metadata": {},
   "outputs": [],
   "source": []
  },
  {
   "cell_type": "code",
   "execution_count": null,
   "metadata": {},
   "outputs": [],
   "source": []
  },
  {
   "cell_type": "markdown",
   "metadata": {},
   "source": [
    "## How to get a .csv() file?\n",
    "\n",
    "Now I already downloaded and gave you this ```coronva.csv``` file to work with. But how can you find one on your own? \n",
    "\n",
    "The internet will be your friend for this! Just simply search up what you want to find a dataset of. \n",
    "\n",
    "Earlier I searched \"coronvirus datasets\" and found this link: https://covidtracking.com. \n",
    "\n",
    "Then I navigated to a random dataset by clicking the drop down on the tab bar that reads **\"Our Data\"**, then clicked and found a dataset that I liked.\n",
    "\n",
    "After that you should see **\"API (JSON and CSV)\"** somewhere on your desired dataset. Try to get a link for it that ends with **.csv** to get the csv link. \n",
    "\n",
    "Here's the link I got: https://covidtracking.com/api/v1/us/daily.csv\n",
    "\n",
    "Now you can either download the file, or simply use the link. Let's use the link: \n",
    "\n",
    "***Note***: Make sure your link is a ```string``` when you enter it!!!"
   ]
  },
  {
   "cell_type": "code",
   "execution_count": null,
   "metadata": {},
   "outputs": [],
   "source": [
    "new_dataframe = pd.read_csv('https://covidtracking.com/api/v1/us/daily.csv')\n",
    "new_dataframe.head()"
   ]
  },
  {
   "cell_type": "markdown",
   "metadata": {},
   "source": [
    "Now if you verify, with the link, the data values should match. \n",
    "\n",
    "Another good source of a datasets is **Kaggle**."
   ]
  },
  {
   "cell_type": "markdown",
   "metadata": {},
   "source": [
    "With that being said, you can also create your own DataFrame by first creating a dictionary and then using pd.DataFrame(dict_name)"
   ]
  },
  {
   "cell_type": "code",
   "execution_count": null,
   "metadata": {},
   "outputs": [],
   "source": [
    "dict = {\"Names\": [\"Kyra\", \"Max\", \"Wes\", \"Kyler\", \"Jennifer\"], \"School Level\": [\"High School\", \"High School\", \"Middle School\", \"High School\", \"College\"], \n",
    "        \"Age\": [17, 16, 12, 15, 19], \"Driver's License\": [True, False, False, False, True]}\n",
    "random_df = pd.DataFrame(dict)\n",
    "random_df"
   ]
  },
  {
   "cell_type": "markdown",
   "metadata": {},
   "source": [
    "You can also create your own .csv file by using Microsoft Excel and selecting the option CSV (Comma delimited) when saving the spreadsheet"
   ]
  },
  {
   "cell_type": "markdown",
   "metadata": {},
   "source": [
    "## Other Data File Types:\n",
    "\n",
    "Other data file types include ```.tsv``` (tab-separated values), ```.json```, ```.html```. However for the purposes of this summer camp, you will only be using the ```.csv``` file type because they're a great starting point. \n",
    "\n",
    "#### If you ever end up using any other file type, send us an email and we can help you set it up! "
   ]
  },
  {
   "cell_type": "code",
   "execution_count": null,
   "metadata": {},
   "outputs": [],
   "source": []
  },
  {
   "cell_type": "code",
   "execution_count": null,
   "metadata": {},
   "outputs": [],
   "source": []
  },
  {
   "cell_type": "code",
   "execution_count": null,
   "metadata": {},
   "outputs": [],
   "source": []
  },
  {
   "cell_type": "markdown",
   "metadata": {},
   "source": [
    "## Recap"
   ]
  },
  {
   "cell_type": "markdown",
   "metadata": {},
   "source": [
    "**Pandas**\n",
    "- a Python library used for data manipulation and data analysis\n",
    "- Allows user to put data into a DataFrame/Table so data can easily accessed and avaliable for use\n",
    "- imported as a 'pd'\n",
    "\n",
    "**.csv**\n",
    "- common file type where its data can be stored as a DataFrame/Table\n",
    "- ex: corona = pd.read_csv('corona.csv')\n",
    "\n",
    "- Can also make your own .csv file by creating a dictionary and using pd.DataFrame(dict_name)\n",
    "- Another option is use to Microsoft Excel and save it as a .csv file.\n",
    "\n",
    "**DataFrame/Table**\n",
    "- can view first or last 5 rows in a DataFrame/Table using .head() or .tail() \n",
    "- can pass a number to see top or bottom 'n' rows (ex: corona.head(n))\n",
    "- can access the number of rows and columns frame been using with .shape"
   ]
  },
  {
   "cell_type": "markdown",
   "metadata": {},
   "source": [
    "# End\n",
    "\n",
    "### About this notebook: \n",
    "#### Developed by:\n",
    "* [Milan Butani](https://www.linkedin.com/in/milanbutani/) \n",
    "* [Kyra Yee](https://www.linkedin.com/in/kyrayee/)\n",
    "* [Colin Yee](https://www.linkedin.com/in/colin-yee-b724141ab/)\n",
    "* [Amy Tran](https://www.linkedin.com/in/amytran2303/)\n",
    "\n",
    "#### Connect with us:\n",
    "<a href='https://www.linkedin.com/company/lanlearning/'> <img src=https://img.icons8.com/color/48/000000/linkedin.png width=\"48\" height=\"48\" align=\"left\"/></a>\n",
    "\n",
    "<a href='http://www.instagram.com/lanlearning'> <img src=https://img.icons8.com/fluent/48/000000/instagram-new.png width=\"48\" height=\"48\" align=\"left\"/></a>\n",
    "\n",
    "<a href='https://www.youtube.com/channel/UC5_yxU9pz4ka7xITJMxO5WA'> <img src=https://img.icons8.com/color/48/000000/youtube-squared.png width=\"48\" height=\"48\" align=\"left\"/></a>\n",
    "\n",
    "<a href='https://www.github.com/lanlearning/'> <img src=https://img.icons8.com/material-rounded/48/000000/github.png/ width=\"48\" height=\"48\" align=\"left\"/></a>\n",
    "\n",
    "\n"
   ]
  },
  {
   "cell_type": "code",
   "execution_count": null,
   "metadata": {},
   "outputs": [],
   "source": []
  }
 ],
 "metadata": {
  "kernelspec": {
   "display_name": "Python 3",
   "language": "python",
   "name": "python3"
  },
  "language_info": {
   "codemirror_mode": {
    "name": "ipython",
    "version": 3
   },
   "file_extension": ".py",
   "mimetype": "text/x-python",
   "name": "python",
   "nbconvert_exporter": "python",
   "pygments_lexer": "ipython3",
   "version": "3.8.2"
  }
 },
 "nbformat": 4,
 "nbformat_minor": 4
}
