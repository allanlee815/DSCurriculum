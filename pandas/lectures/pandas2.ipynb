{
 "cells": [
  {
   "cell_type": "markdown",
   "metadata": {},
   "source": [
    "___\n",
    "\n",
    "<a href='https://www.instagram.com/lanlearning/'> <img src='../pimages/logosmall.png' width=\"100\" height=\"100\"/></a>\n",
    "___\n",
    "<center>Copyright LanLearning 2020</center>\n",
    "\n",
    "\n",
    "\n"
   ]
  },
  {
   "cell_type": "markdown",
   "metadata": {},
   "source": [
    "# Welcome back to Pandas! Part 2!\n",
    "\n",
    "In this notebook, we will be working with a simple DataFrame and be doing a few operations on it just to get a feel for what our DataFrame is like. Bascially, we will try to use operations to describe the frame.\n",
    "\n",
    "# Exploratory Data Analysis (EDA)"
   ]
  },
  {
   "cell_type": "code",
   "execution_count": null,
   "metadata": {},
   "outputs": [],
   "source": [
    "# first thing's first,\n",
    "\n",
    "import pandas as pd"
   ]
  },
  {
   "cell_type": "markdown",
   "metadata": {},
   "source": [
    "## About the Data:\n",
    "Just to give you a feel for the different domains within data science, we will use various types of datasets. \n",
    "\n",
    "Today's dataset will be related to basketball. The file, included in the folder, is ```players.csv``` which was taken from https://www.basketball-reference.com. \n",
    "\n",
    "Let's get into it."
   ]
  },
  {
   "cell_type": "code",
   "execution_count": null,
   "metadata": {},
   "outputs": [],
   "source": [
    "players = pd.read_csv('players.csv')\n",
    "players.head(10)"
   ]
  },
  {
   "cell_type": "markdown",
   "metadata": {},
   "source": [
    "## What are rows and columns:\n",
    "Before diving into some of the pandas functions that will be used to describe our frame, let's solidify our basic understanding of rows and columns.\n",
    "\n",
    "#### What does one row represent?\n",
    "<br>\n",
    "<img src='../pimages/kobe.jpeg' width=\"500\"/>\n",
    "<br>\n",
    "\n",
    "One row in our ```players``` frame represents one player. There is one and only one individual per row.\n",
    "\n",
    "In general, one row represents one **instance** or **individual** who we will be analyzing/studying. \n",
    "\n",
    "For example: In the coronavirus dataset from the last notebook, one row represented one single day. \n",
    "\n",
    "#### What do columns represent? \n",
    "In our ```players``` table we have a different columnn for some different fact about the player. For example, one column represents their ```Age```, while another represents their position ```Pos```. \n",
    "\n",
    "Columns represent **something** or **some attribute** about each of the individuals in our dataset. This is why we call our columns **attributes** or **features** of the individuals in our dataset. \n",
    "\n",
    "For example, from the coronavirus dataset from before, there was a feature that represented the number of ```Positive``` test cases of COVID in a particular day. "
   ]
  },
  {
   "cell_type": "markdown",
   "metadata": {},
   "source": [
    "## How Many... ?\n",
    "\n",
    "Let's take a look at how many instances and features we have in our dataframe:\n",
    "\n",
    "You can use the ```len()``` function and simply pass in the dataframe to find the number of rows there are:"
   ]
  },
  {
   "cell_type": "code",
   "execution_count": null,
   "metadata": {},
   "outputs": [],
   "source": [
    "len(players)"
   ]
  },
  {
   "cell_type": "markdown",
   "metadata": {},
   "source": [
    "This tells us that there are ```624``` players in the dataframe.\n",
    "\n",
    "Next let's find the number of features (or attributes in our table). First we will need to get the list of column titles and then pass it into ```len()```."
   ]
  },
  {
   "cell_type": "code",
   "execution_count": null,
   "metadata": {},
   "outputs": [],
   "source": [
    "players.columns"
   ]
  },
  {
   "cell_type": "markdown",
   "metadata": {},
   "source": [
    "```.columns``` will tell you all the columns that are in the dataframe. \n",
    "\n",
    "Let's pass that into ```len()```: "
   ]
  },
  {
   "cell_type": "code",
   "execution_count": null,
   "metadata": {},
   "outputs": [],
   "source": [
    "len(players.columns)"
   ]
  },
  {
   "cell_type": "markdown",
   "metadata": {},
   "source": [
    "This tells us there are 30 columns in our DataFrame.\n",
    "\n",
    "You can also access the number of rows and columns the frame has by using `.shape`."
   ]
  },
  {
   "cell_type": "code",
   "execution_count": null,
   "metadata": {},
   "outputs": [],
   "source": [
    "players.shape # see! the dimensions are the same as the one stated above"
   ]
  },
  {
   "cell_type": "markdown",
   "metadata": {},
   "source": [
    "`.shape` can also do the same functions as `len()` and `.columns`."
   ]
  },
  {
   "cell_type": "code",
   "execution_count": null,
   "metadata": {},
   "outputs": [],
   "source": [
    "players.shape[0]"
   ]
  },
  {
   "cell_type": "code",
   "execution_count": null,
   "metadata": {},
   "outputs": [],
   "source": [
    "players.shape[1]"
   ]
  },
  {
   "cell_type": "markdown",
   "metadata": {},
   "source": [
    "## Accessing Different Parts of the DataFrame:\n",
    "You can also see certain parts of a DataFrame by using other methods:\n",
    "- ```.index```, will show you the different row labels (aka the bolded numbers all the way to the left)\n",
    "- ```.values```, will show you all the data in the table.\n",
    "\n",
    "Let's take a look:"
   ]
  },
  {
   "cell_type": "code",
   "execution_count": null,
   "metadata": {},
   "outputs": [],
   "source": [
    "players.index"
   ]
  },
  {
   "cell_type": "markdown",
   "metadata": {},
   "source": [
    "This actually didn't return anything, but it gives us a description of our index. \n",
    "\n",
    "It **starts** at index ```0```, and **ends** at ```624``` and **increments** by ```1```.\n",
    "\n",
    "but if you want to see the actual values, you need to pass that into ```list()```:"
   ]
  },
  {
   "cell_type": "code",
   "execution_count": null,
   "metadata": {},
   "outputs": [],
   "source": [
    "list(players.index)"
   ]
  },
  {
   "cell_type": "code",
   "execution_count": null,
   "metadata": {},
   "outputs": [],
   "source": [
    "players.values # this data can not be manipulated, only a view of what's in the DataFrame"
   ]
  },
  {
   "cell_type": "markdown",
   "metadata": {},
   "source": [
    "*Note*: ```.columns```, ```.index```, and ```.values``` look a lot like functions. \n",
    "\n",
    "**However, they are not.**\n",
    "\n",
    "They do not have parantheses, which is an extremely important observation to make. ```.index```, ```.columns```, and ```.values``` access the attributes of the ```player``` dataframe object. \n",
    "\n",
    "**Attributes** are an important part of what makes Python an object oriented language, but we won't really get into that. But feel free to do as much research as you want about what makes Python an object oriented language."
   ]
  },
  {
   "cell_type": "markdown",
   "metadata": {},
   "source": [
    "On a side note, this function (note the parentheses) does something similar to `.values`, but with more detail on the type of each column rather than the values."
   ]
  },
  {
   "cell_type": "code",
   "execution_count": null,
   "metadata": {},
   "outputs": [],
   "source": [
    "players.info()"
   ]
  },
  {
   "cell_type": "markdown",
   "metadata": {},
   "source": [
    "## Indexing with DataFrames:\n",
    "\n",
    "Let's learn how we can select certain rows and columns from our DataFrame. \n",
    "\n",
    "### Indexing to select rows: \n",
    "Since you select a row, you are selecting a player from the dataframe. So think of selecting a few rows as selecting a group of players, say for your team. \n",
    "\n",
    "<br>\n",
    "<img src='../pimages/team.jpg' width=\"500\"/>\n",
    "<br>\n",
    "\n",
    "Now there are many ways to select rows from a dataframe. \n",
    "\n",
    "### ```.iloc```:\n",
    "```.iloc[]``` is used to select rows in a dataframe. I like to think of this as index location. \n",
    "\n",
    "Index location is basically what it sounds like. You will specify the index of the row you want to select: "
   ]
  },
  {
   "cell_type": "code",
   "execution_count": null,
   "metadata": {
    "scrolled": true
   },
   "outputs": [],
   "source": [
    "# selecting the row in position 0, aka the first row\n",
    "players.iloc[0]"
   ]
  },
  {
   "cell_type": "code",
   "execution_count": null,
   "metadata": {},
   "outputs": [],
   "source": [
    "# selecting the row in position 100, aka the 101th row\n",
    "players.iloc[100]"
   ]
  },
  {
   "cell_type": "markdown",
   "metadata": {},
   "source": [
    "#### Selecting multiple rows:"
   ]
  },
  {
   "cell_type": "code",
   "execution_count": null,
   "metadata": {},
   "outputs": [],
   "source": [
    "# slicing them to select rows at position 0 to 99\n",
    "players.iloc[0:100]"
   ]
  },
  {
   "cell_type": "code",
   "execution_count": null,
   "metadata": {},
   "outputs": [],
   "source": [
    "# slicing by specifying particular positions of rows:\n",
    "players.iloc[[0, 10, 200, 300]]"
   ]
  },
  {
   "cell_type": "markdown",
   "metadata": {},
   "source": [
    "### ```.loc```:\n",
    "```.loc[]``` is used to select rows in a dataframe based on the label of the row. In the dataframe we're using, the labels (which line the leftmost side of the dataframe and are in bold) happen to be the **same** as the rows' indexes, which makes it kind of confusing. The numbers that are on the leftmost side of the frame are **labels**. Not indexes. They are labels (which happen to mimic the indexes). \n",
    "\n",
    "If we want to select the player whose label says ```99```, we use ```.loc``` for that:"
   ]
  },
  {
   "cell_type": "code",
   "execution_count": null,
   "metadata": {
    "scrolled": true
   },
   "outputs": [],
   "source": [
    "players.loc[99]"
   ]
  },
  {
   "cell_type": "markdown",
   "metadata": {},
   "source": [
    "#### Everything else functions similarly as iloc.\n",
    "\n",
    "##### Note: This particular file ```players.csv``` is a bad example for showing the difference for .loc and .iloc, but we'll make note of that in the future. \n",
    "\n",
    "For clarification, imagine you could shuffle the rows (which includes the row numbers, representing their lablels, on the left hand side). `.loc` will give you the row according to the number label, and `.iloc` will give you the row relative to the current order they are listed (based on index). But in your typical kind of DataFrame, `players.iloc[0]` would give the same thing as `players.loc[0]`."
   ]
  },
  {
   "cell_type": "markdown",
   "metadata": {},
   "source": [
    "## Selecting Columns:\n",
    "There are two ways to select columns, but I'm just going to describe the recommended way. That way, you get in the habit of selecting columns in the most practical way:\n",
    "\n",
    "You simply want to use bracket notation like you did back when you were using dictionaries, and pass in the ```name``` of the column as a ```str```:"
   ]
  },
  {
   "cell_type": "code",
   "execution_count": null,
   "metadata": {},
   "outputs": [],
   "source": [
    "players['Pos']"
   ]
  },
  {
   "cell_type": "markdown",
   "metadata": {},
   "source": [
    "#### To select multiple columns, pass in a list of column titles:"
   ]
  },
  {
   "cell_type": "code",
   "execution_count": null,
   "metadata": {},
   "outputs": [],
   "source": [
    "players[['Player', 'Pos', 'AST', 'PTS']]"
   ]
  },
  {
   "cell_type": "markdown",
   "metadata": {},
   "source": [
    "# Series vs DataFrame:"
   ]
  },
  {
   "cell_type": "code",
   "execution_count": null,
   "metadata": {},
   "outputs": [],
   "source": [
    "players['Player']"
   ]
  },
  {
   "cell_type": "markdown",
   "metadata": {},
   "source": [
    "Look at ^^^ the shape of this dataframe and notice it **should be different** because it's only a part of the original dataframe. "
   ]
  },
  {
   "cell_type": "markdown",
   "metadata": {},
   "source": [
    "If you notice, when you select a single row or single column from the DataFrame, it doesn't look like a DataFrame; it's just a bunch of numbers. \n",
    "\n",
    "This is what a **series** is. It's just a *series* of numbers in one line! When you have multiple series altogether, it is called a DataFrame!"
   ]
  },
  {
   "cell_type": "markdown",
   "metadata": {},
   "source": [
    "## Recap"
   ]
  },
  {
   "cell_type": "markdown",
   "metadata": {},
   "source": [
    "**Dataframe Manipulation**\n",
    "- You can access different parts of a frame using .index, .columns, and .values\n",
    "    - .index displays labels of each row in frame\n",
    "    - .column displays labels of each column in frame\n",
    "    - .values displays data in frame (excluding the labels)\n",
    "    - .info() displays the type of data in each column\n",
    "- You can select columns with brackets.\n",
    "- You can select rows using either ```.loc``` or ```.iloc```. ```.loc``` is based off of the row's label, and ```.iloc``` is based off of the row's index"
   ]
  },
  {
   "cell_type": "markdown",
   "metadata": {},
   "source": [
    "### About this notebook: \n",
    "#### Developed by:\n",
    "* [Milan Butani](https://www.linkedin.com/in/milanbutani/) \n",
    "* [Kyra Yee](https://www.linkedin.com/in/kyrayee/)\n",
    "* [Jacqueline Mei](https://www.linkedin.com/in/jacqueline-mei-9140401aa/)\n",
    "* [Liam McDonough](https://www.linkedin.com/in/liammmcdonough/)\n",
    "\n",
    "#### Connect with us:\n",
    "<a href='https://www.linkedin.com/company/lanlearning/'> <img src=https://img.icons8.com/color/48/000000/linkedin.png width=\"48\" height=\"48\" align=\"left\"/></a>\n",
    "\n",
    "<a href='http://www.instagram.com/lanlearning'> <img src=https://img.icons8.com/fluent/48/000000/instagram-new.png width=\"48\" height=\"48\" align=\"left\"/></a>\n",
    "\n",
    "<a href='https://www.youtube.com/channel/UC5_yxU9pz4ka7xITJMxO5WA'> <img src=https://img.icons8.com/color/48/000000/youtube-squared.png width=\"48\" height=\"48\" align=\"left\"/></a>\n",
    "\n",
    "<a href='https://www.github.com/lanlearning/'> <img src=https://img.icons8.com/material-rounded/48/000000/github.png/ width=\"48\" height=\"48\" align=\"left\"/></a>\n",
    "\n"
   ]
  }
 ],
 "metadata": {
  "kernelspec": {
   "display_name": "Python 3",
   "language": "python",
   "name": "python3"
  },
  "language_info": {
   "codemirror_mode": {
    "name": "ipython",
    "version": 3
   },
   "file_extension": ".py",
   "mimetype": "text/x-python",
   "name": "python",
   "nbconvert_exporter": "python",
   "pygments_lexer": "ipython3",
   "version": "3.8.2"
  }
 },
 "nbformat": 4,
 "nbformat_minor": 4
}
